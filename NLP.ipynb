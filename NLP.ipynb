{
  "nbformat": 4,
  "nbformat_minor": 0,
  "metadata": {
    "colab": {
      "name": "NLP",
      "provenance": [],
      "authorship_tag": "ABX9TyOrv3gz5d81WS5kL4Xp/YfM",
      "include_colab_link": true
    },
    "kernelspec": {
      "name": "python3",
      "display_name": "Python 3"
    }
  },
  "cells": [
    {
      "cell_type": "markdown",
      "metadata": {
        "id": "view-in-github",
        "colab_type": "text"
      },
      "source": [
        "<a href=\"https://colab.research.google.com/github/gsGupta11/Machine-Learning-Algorithms/blob/master/NLP.ipynb\" target=\"_parent\"><img src=\"https://colab.research.google.com/assets/colab-badge.svg\" alt=\"Open In Colab\"/></a>"
      ]
    },
    {
      "cell_type": "markdown",
      "metadata": {
        "id": "FQqZ2tVcdLry",
        "colab_type": "text"
      },
      "source": [
        "**NLP**"
      ]
    },
    {
      "cell_type": "markdown",
      "metadata": {
        "id": "dxobD548dPIJ",
        "colab_type": "text"
      },
      "source": [
        "**Data Preprocessing**"
      ]
    },
    {
      "cell_type": "code",
      "metadata": {
        "id": "CkYoxWfTdOHV",
        "colab_type": "code",
        "colab": {}
      },
      "source": [
        "import numpy as np\n",
        "import pandas as pd\n",
        "import matplotlib.pyplot as plt"
      ],
      "execution_count": 0,
      "outputs": []
    },
    {
      "cell_type": "code",
      "metadata": {
        "id": "sNQ4aomDdapx",
        "colab_type": "code",
        "colab": {}
      },
      "source": [
        "dataset = pd.read_csv(\"Restaurant_Reviews.tsv\",delimiter=\"\\t\",quoting=3)"
      ],
      "execution_count": 0,
      "outputs": []
    },
    {
      "cell_type": "markdown",
      "metadata": {
        "id": "5hJQi_8Wd_Fr",
        "colab_type": "text"
      },
      "source": [
        "**Cleaning Text**"
      ]
    },
    {
      "cell_type": "code",
      "metadata": {
        "id": "75v4aFDheC11",
        "colab_type": "code",
        "colab": {
          "base_uri": "https://localhost:8080/",
          "height": 51
        },
        "outputId": "998009d0-5f91-4072-f1c1-a58c3006ac03"
      },
      "source": [
        "import re\n",
        "import nltk\n",
        "nltk.download(\"stopwords\")\n",
        "from nltk.corpus import stopwords\n",
        "from nltk.stem.porter import PorterStemmer\n",
        "cleanedSentance=[]\n",
        "for i in list(dataset.values[:,0]):\n",
        "  a=i\n",
        "  a=re.sub(\"[^a-zA-Z]\",\" \",a)\n",
        "  a=a.lower()\n",
        "  a=a.split()\n",
        "  ps=PorterStemmer()\n",
        "  stpwrds = stopwords.words(\"english\")\n",
        "  stpwrds = list(set(stpwrds))\n",
        "  stpwrds.remove(\"not\")\n",
        "  stpwrds.remove(\"isn't\")\n",
        "  a=[ps.stem(j) for j in a if j not in stpwrds]\n",
        "  a=\" \".join(a)\n",
        "  cleanedSentance.append(a)"
      ],
      "execution_count": 54,
      "outputs": [
        {
          "output_type": "stream",
          "text": [
            "[nltk_data] Downloading package stopwords to /root/nltk_data...\n",
            "[nltk_data]   Package stopwords is already up-to-date!\n"
          ],
          "name": "stdout"
        }
      ]
    },
    {
      "cell_type": "markdown",
      "metadata": {
        "id": "3VfO2tLUgLY9",
        "colab_type": "text"
      },
      "source": [
        "**Sparse Matrix Creation OR bag of word Model**"
      ]
    },
    {
      "cell_type": "code",
      "metadata": {
        "id": "KYaFM-SZgTaX",
        "colab_type": "code",
        "colab": {}
      },
      "source": [
        "from sklearn.feature_extraction.text import CountVectorizer\n",
        "cv = CountVectorizer()\n",
        "sparseMatrix=cv.fit_transform(cleanedSentance)"
      ],
      "execution_count": 0,
      "outputs": []
    },
    {
      "cell_type": "markdown",
      "metadata": {
        "id": "3BgjzKuFhCVW",
        "colab_type": "text"
      },
      "source": [
        "**NLP Done** <br>\n",
        "**Now ML Continues**"
      ]
    },
    {
      "cell_type": "code",
      "metadata": {
        "id": "iVqCJPM8hQVo",
        "colab_type": "code",
        "colab": {}
      },
      "source": [
        "X=sparseMatrix       # It might not always be the case\n",
        "Y=dataset.iloc[:,-1]"
      ],
      "execution_count": 0,
      "outputs": []
    },
    {
      "cell_type": "markdown",
      "metadata": {
        "id": "Lik3-fxzhgE-",
        "colab_type": "text"
      },
      "source": [
        "**Splliting into Test and Train**"
      ]
    },
    {
      "cell_type": "code",
      "metadata": {
        "id": "zhH2rH6ahlrm",
        "colab_type": "code",
        "colab": {}
      },
      "source": [
        "from sklearn.model_selection import train_test_split\n",
        "Xtrain,Xtest,Ytrain,Ytest = train_test_split(X,Y,test_size=0.2,random_state=0)"
      ],
      "execution_count": 0,
      "outputs": []
    },
    {
      "cell_type": "markdown",
      "metadata": {
        "id": "97iGz74yjEj7",
        "colab_type": "text"
      },
      "source": [
        "**You can use other preprocessing tool acc to the dataset**"
      ]
    },
    {
      "cell_type": "markdown",
      "metadata": {
        "id": "3t527H0_h8Kq",
        "colab_type": "text"
      },
      "source": [
        "**Trainning any Classification model(In this case it is classification otherwise it can be anything depending upon the dataset)**"
      ]
    },
    {
      "cell_type": "code",
      "metadata": {
        "id": "JU5yV7BtiL5_",
        "colab_type": "code",
        "colab": {
          "base_uri": "https://localhost:8080/",
          "height": 85
        },
        "outputId": "e38ee87b-4866-4ce9-971a-7b52dee6b776"
      },
      "source": [
        "# SVC Model \n",
        "\n",
        "from sklearn.svm import SVC\n",
        "svc = SVC(kernel=\"linear\",random_state=42)\n",
        "svc.fit(Xtrain,Ytrain)"
      ],
      "execution_count": 58,
      "outputs": [
        {
          "output_type": "execute_result",
          "data": {
            "text/plain": [
              "SVC(C=1.0, break_ties=False, cache_size=200, class_weight=None, coef0=0.0,\n",
              "    decision_function_shape='ovr', degree=3, gamma='scale', kernel='linear',\n",
              "    max_iter=-1, probability=False, random_state=42, shrinking=True, tol=0.001,\n",
              "    verbose=False)"
            ]
          },
          "metadata": {
            "tags": []
          },
          "execution_count": 58
        }
      ]
    },
    {
      "cell_type": "markdown",
      "metadata": {
        "id": "27bUKhGaihJO",
        "colab_type": "text"
      },
      "source": [
        "**Predicting Test Dataset o/p**"
      ]
    },
    {
      "cell_type": "code",
      "metadata": {
        "id": "WumGaV25ilzQ",
        "colab_type": "code",
        "colab": {}
      },
      "source": [
        "Ypred = svc.predict(Xtest)"
      ],
      "execution_count": 0,
      "outputs": []
    },
    {
      "cell_type": "markdown",
      "metadata": {
        "id": "m8GcgtVuismP",
        "colab_type": "text"
      },
      "source": [
        "**Predicting any new Result**"
      ]
    },
    {
      "cell_type": "code",
      "metadata": {
        "id": "AEyeDbaAixX3",
        "colab_type": "code",
        "colab": {
          "base_uri": "https://localhost:8080/",
          "height": 34
        },
        "outputId": "40b6724e-c8b6-4c49-b509-03c8a21cf504"
      },
      "source": [
        "svc.predict((cv.transform([\"This restaurant is not at all good\"])).toarray())"
      ],
      "execution_count": 60,
      "outputs": [
        {
          "output_type": "execute_result",
          "data": {
            "text/plain": [
              "array([0])"
            ]
          },
          "metadata": {
            "tags": []
          },
          "execution_count": 60
        }
      ]
    },
    {
      "cell_type": "markdown",
      "metadata": {
        "id": "qM_J8-RNjTCg",
        "colab_type": "text"
      },
      "source": [
        "**Confusion Matrix and Accuracy Score**"
      ]
    },
    {
      "cell_type": "code",
      "metadata": {
        "id": "j_El7xX0jEPk",
        "colab_type": "code",
        "colab": {
          "base_uri": "https://localhost:8080/",
          "height": 68
        },
        "outputId": "36026310-1a03-4550-ba6a-6a984d86d0c2"
      },
      "source": [
        "from sklearn.metrics import accuracy_score,confusion_matrix\n",
        "cm=confusion_matrix(Ytest,Ypred)\n",
        "acs=accuracy_score(Ytest,Ypred)\n",
        "print(cm)\n",
        "print(acs)"
      ],
      "execution_count": 61,
      "outputs": [
        {
          "output_type": "stream",
          "text": [
            "[[79 18]\n",
            " [22 81]]\n",
            "0.8\n"
          ],
          "name": "stdout"
        }
      ]
    }
  ]
}