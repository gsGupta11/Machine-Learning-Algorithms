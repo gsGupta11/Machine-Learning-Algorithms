{
  "nbformat": 4,
  "nbformat_minor": 0,
  "metadata": {
    "colab": {
      "name": "Untitled5.ipynb",
      "provenance": [],
      "collapsed_sections": [],
      "authorship_tag": "ABX9TyNuJkJf4aCAP0xql1YLbuZd",
      "include_colab_link": true
    },
    "kernelspec": {
      "name": "python3",
      "display_name": "Python 3"
    }
  },
  "cells": [
    {
      "cell_type": "markdown",
      "metadata": {
        "id": "view-in-github",
        "colab_type": "text"
      },
      "source": [
        "<a href=\"https://colab.research.google.com/github/gsGupta11/Machine-Learning-Algorithms/blob/master/ANN.ipynb\" target=\"_parent\"><img src=\"https://colab.research.google.com/assets/colab-badge.svg\" alt=\"Open In Colab\"/></a>"
      ]
    },
    {
      "cell_type": "markdown",
      "metadata": {
        "id": "wjbKdKLDxwa-",
        "colab_type": "text"
      },
      "source": [
        "**Importing the Libraries**"
      ]
    },
    {
      "cell_type": "code",
      "metadata": {
        "id": "luupLG-xZ8W9",
        "colab_type": "code",
        "colab": {}
      },
      "source": [
        "import numpy as np\n",
        "import pandas as pd\n",
        "import matplotlib.pyplot as plt\n",
        "import tensorflow as tf"
      ],
      "execution_count": 0,
      "outputs": []
    },
    {
      "cell_type": "code",
      "metadata": {
        "id": "jiKUCIb-aIu4",
        "colab_type": "code",
        "colab": {
          "base_uri": "https://localhost:8080/",
          "height": 34
        },
        "outputId": "2aae9cf8-50d3-4669-a52d-6c39c6b0c050"
      },
      "source": [
        "tf.__version__"
      ],
      "execution_count": 52,
      "outputs": [
        {
          "output_type": "execute_result",
          "data": {
            "text/plain": [
              "'2.2.0'"
            ]
          },
          "metadata": {
            "tags": []
          },
          "execution_count": 52
        }
      ]
    },
    {
      "cell_type": "markdown",
      "metadata": {
        "id": "I8Ks81FKx2cF",
        "colab_type": "text"
      },
      "source": [
        "**Importing Dataset**"
      ]
    },
    {
      "cell_type": "code",
      "metadata": {
        "id": "CHNmGeskaUPS",
        "colab_type": "code",
        "colab": {}
      },
      "source": [
        "dataset = pd.read_csv(\"Churn_Modelling.csv\")\n",
        "X=dataset.iloc[:,3:-1].values\n",
        "Y=dataset.iloc[:,-1].values"
      ],
      "execution_count": 0,
      "outputs": []
    },
    {
      "cell_type": "markdown",
      "metadata": {
        "id": "VgMC8VVdx7cE",
        "colab_type": "text"
      },
      "source": [
        "**Encoding of Categorical Columns**"
      ]
    },
    {
      "cell_type": "code",
      "metadata": {
        "id": "yhfR9uEnyEP5",
        "colab_type": "code",
        "colab": {}
      },
      "source": [
        "# Label Encoding of male-female Column\n",
        "from sklearn.preprocessing import LabelEncoder,OneHotEncoder\n",
        "from sklearn.compose import ColumnTransformer\n",
        "le = LabelEncoder()\n",
        "X[:,2]=le.fit_transform(X[:,2])\n",
        "\n",
        "#One Hot Encoding of Geograpy Column\n",
        "ct = ColumnTransformer([(\"encoder\",OneHotEncoder(),[1])],remainder=\"passthrough\")\n",
        "X=ct.fit_transform(X)"
      ],
      "execution_count": 0,
      "outputs": []
    },
    {
      "cell_type": "markdown",
      "metadata": {
        "id": "2chY4GUw03nr",
        "colab_type": "text"
      },
      "source": [
        "**Splitting into Trainning and Test Set**"
      ]
    },
    {
      "cell_type": "code",
      "metadata": {
        "id": "uARAPWVv09Hv",
        "colab_type": "code",
        "colab": {}
      },
      "source": [
        "from sklearn.model_selection import train_test_split\n",
        "Xtrain,Xtest,Ytrain,Ytest=train_test_split(X,Y,test_size=0.2,random_state=0)"
      ],
      "execution_count": 0,
      "outputs": []
    },
    {
      "cell_type": "markdown",
      "metadata": {
        "id": "FzMVybqO4c7Y",
        "colab_type": "text"
      },
      "source": [
        "**Feature Scaling**"
      ]
    },
    {
      "cell_type": "code",
      "metadata": {
        "id": "tCnoo5EV4qkN",
        "colab_type": "code",
        "colab": {}
      },
      "source": [
        "from sklearn.preprocessing import StandardScaler\n",
        "ss = StandardScaler()\n",
        "Xtrain = ss.fit_transform(Xtrain)\n",
        "Xtest = ss.transform(Xtest)"
      ],
      "execution_count": 0,
      "outputs": []
    },
    {
      "cell_type": "markdown",
      "metadata": {
        "id": "SX_u-rUj5DKM",
        "colab_type": "text"
      },
      "source": [
        "**Initializing ANN**"
      ]
    },
    {
      "cell_type": "code",
      "metadata": {
        "id": "48xOfHnn5H8K",
        "colab_type": "code",
        "colab": {}
      },
      "source": [
        "ann = tf.keras.models.Sequential()"
      ],
      "execution_count": 0,
      "outputs": []
    },
    {
      "cell_type": "markdown",
      "metadata": {
        "id": "Ae5gjTTo5V9T",
        "colab_type": "text"
      },
      "source": [
        "**Creating Hidden Layers**"
      ]
    },
    {
      "cell_type": "code",
      "metadata": {
        "id": "oF5iYkV05bV3",
        "colab_type": "code",
        "colab": {}
      },
      "source": [
        "ann.add(tf.keras.layers.Dense(units=7,activation=\"relu\"))\n",
        "ann.add(tf.keras.layers.Dense(units=7,activation=\"relu\"))\n",
        "ann.add(tf.keras.layers.Dense(units=7,activation=\"relu\"))"
      ],
      "execution_count": 0,
      "outputs": []
    },
    {
      "cell_type": "markdown",
      "metadata": {
        "id": "fz5Ew5fI5tql",
        "colab_type": "text"
      },
      "source": [
        "**Creating O/p Layers**"
      ]
    },
    {
      "cell_type": "code",
      "metadata": {
        "id": "bsn5H_eY5wrN",
        "colab_type": "code",
        "colab": {}
      },
      "source": [
        "ann.add(tf.keras.layers.Dense(units=1,activation=\"sigmoid\"))    #activation is softmax in case if there is categorical data(other than binary) which breaks into more columns "
      ],
      "execution_count": 0,
      "outputs": []
    },
    {
      "cell_type": "markdown",
      "metadata": {
        "id": "XlfMc8as55i8",
        "colab_type": "text"
      },
      "source": [
        "**Compile ANN Model**"
      ]
    },
    {
      "cell_type": "code",
      "metadata": {
        "id": "feqFyzb56ArH",
        "colab_type": "code",
        "colab": {}
      },
      "source": [
        "ann.compile(optimizer=\"adam\",loss=\"binary_crossentropy\",metrics=[\"accuracy\"])\n",
        "\n",
        "# loss = categorical_crossentropy for categorical data\n",
        "# loss = mean_squared_error for regression"
      ],
      "execution_count": 0,
      "outputs": []
    },
    {
      "cell_type": "markdown",
      "metadata": {
        "id": "HBxsNbf3514T",
        "colab_type": "text"
      },
      "source": [
        "**Train ANN Model**"
      ]
    },
    {
      "cell_type": "code",
      "metadata": {
        "id": "EnalzLL96SeK",
        "colab_type": "code",
        "colab": {
          "base_uri": "https://localhost:8080/",
          "height": 1000
        },
        "outputId": "45b188c7-9b2d-4deb-8f2e-d4e057e47808"
      },
      "source": [
        "ann.fit(Xtrain,Ytrain,batch_size=30,epochs=100)"
      ],
      "execution_count": 61,
      "outputs": [
        {
          "output_type": "stream",
          "text": [
            "Epoch 1/100\n",
            "267/267 [==============================] - 0s 1ms/step - loss: 0.6066 - accuracy: 0.7082\n",
            "Epoch 2/100\n",
            "267/267 [==============================] - 0s 1ms/step - loss: 0.4741 - accuracy: 0.7960\n",
            "Epoch 3/100\n",
            "267/267 [==============================] - 0s 1ms/step - loss: 0.4540 - accuracy: 0.7960\n",
            "Epoch 4/100\n",
            "267/267 [==============================] - 0s 1ms/step - loss: 0.4439 - accuracy: 0.7960\n",
            "Epoch 5/100\n",
            "267/267 [==============================] - 0s 1ms/step - loss: 0.4365 - accuracy: 0.7960\n",
            "Epoch 6/100\n",
            "267/267 [==============================] - 0s 1ms/step - loss: 0.4304 - accuracy: 0.7960\n",
            "Epoch 7/100\n",
            "267/267 [==============================] - 0s 1ms/step - loss: 0.4238 - accuracy: 0.8077\n",
            "Epoch 8/100\n",
            "267/267 [==============================] - 0s 1ms/step - loss: 0.4173 - accuracy: 0.8224\n",
            "Epoch 9/100\n",
            "267/267 [==============================] - 0s 1ms/step - loss: 0.4123 - accuracy: 0.8238\n",
            "Epoch 10/100\n",
            "267/267 [==============================] - 0s 1ms/step - loss: 0.4065 - accuracy: 0.8273\n",
            "Epoch 11/100\n",
            "267/267 [==============================] - 0s 2ms/step - loss: 0.3925 - accuracy: 0.8376\n",
            "Epoch 12/100\n",
            "267/267 [==============================] - 0s 1ms/step - loss: 0.3683 - accuracy: 0.8487\n",
            "Epoch 13/100\n",
            "267/267 [==============================] - 0s 1ms/step - loss: 0.3536 - accuracy: 0.8537\n",
            "Epoch 14/100\n",
            "267/267 [==============================] - 0s 1ms/step - loss: 0.3467 - accuracy: 0.8579\n",
            "Epoch 15/100\n",
            "267/267 [==============================] - 0s 1ms/step - loss: 0.3422 - accuracy: 0.8595\n",
            "Epoch 16/100\n",
            "267/267 [==============================] - 0s 1ms/step - loss: 0.3411 - accuracy: 0.8586\n",
            "Epoch 17/100\n",
            "267/267 [==============================] - 0s 1ms/step - loss: 0.3394 - accuracy: 0.8602\n",
            "Epoch 18/100\n",
            "267/267 [==============================] - 0s 1ms/step - loss: 0.3382 - accuracy: 0.8620\n",
            "Epoch 19/100\n",
            "267/267 [==============================] - 0s 1ms/step - loss: 0.3368 - accuracy: 0.8602\n",
            "Epoch 20/100\n",
            "267/267 [==============================] - 0s 1ms/step - loss: 0.3363 - accuracy: 0.8609\n",
            "Epoch 21/100\n",
            "267/267 [==============================] - 0s 2ms/step - loss: 0.3358 - accuracy: 0.8616\n",
            "Epoch 22/100\n",
            "267/267 [==============================] - 0s 1ms/step - loss: 0.3353 - accuracy: 0.8624\n",
            "Epoch 23/100\n",
            "267/267 [==============================] - 0s 2ms/step - loss: 0.3344 - accuracy: 0.8621\n",
            "Epoch 24/100\n",
            "267/267 [==============================] - 0s 1ms/step - loss: 0.3337 - accuracy: 0.8633\n",
            "Epoch 25/100\n",
            "267/267 [==============================] - 0s 1ms/step - loss: 0.3338 - accuracy: 0.8631\n",
            "Epoch 26/100\n",
            "267/267 [==============================] - 0s 1ms/step - loss: 0.3336 - accuracy: 0.8643\n",
            "Epoch 27/100\n",
            "267/267 [==============================] - 0s 1ms/step - loss: 0.3334 - accuracy: 0.8640\n",
            "Epoch 28/100\n",
            "267/267 [==============================] - 0s 1ms/step - loss: 0.3325 - accuracy: 0.8640\n",
            "Epoch 29/100\n",
            "267/267 [==============================] - 0s 1ms/step - loss: 0.3325 - accuracy: 0.8641\n",
            "Epoch 30/100\n",
            "267/267 [==============================] - 0s 1ms/step - loss: 0.3323 - accuracy: 0.8641\n",
            "Epoch 31/100\n",
            "267/267 [==============================] - 0s 1ms/step - loss: 0.3325 - accuracy: 0.8644\n",
            "Epoch 32/100\n",
            "267/267 [==============================] - 0s 1ms/step - loss: 0.3315 - accuracy: 0.8631\n",
            "Epoch 33/100\n",
            "267/267 [==============================] - 0s 1ms/step - loss: 0.3314 - accuracy: 0.8651\n",
            "Epoch 34/100\n",
            "267/267 [==============================] - 0s 1ms/step - loss: 0.3310 - accuracy: 0.8644\n",
            "Epoch 35/100\n",
            "267/267 [==============================] - 0s 1ms/step - loss: 0.3307 - accuracy: 0.8634\n",
            "Epoch 36/100\n",
            "267/267 [==============================] - 0s 1ms/step - loss: 0.3307 - accuracy: 0.8652\n",
            "Epoch 37/100\n",
            "267/267 [==============================] - 0s 2ms/step - loss: 0.3306 - accuracy: 0.8637\n",
            "Epoch 38/100\n",
            "267/267 [==============================] - 0s 1ms/step - loss: 0.3306 - accuracy: 0.8649\n",
            "Epoch 39/100\n",
            "267/267 [==============================] - 0s 1ms/step - loss: 0.3300 - accuracy: 0.8641\n",
            "Epoch 40/100\n",
            "267/267 [==============================] - 0s 1ms/step - loss: 0.3298 - accuracy: 0.8652\n",
            "Epoch 41/100\n",
            "267/267 [==============================] - 0s 1ms/step - loss: 0.3305 - accuracy: 0.8651\n",
            "Epoch 42/100\n",
            "267/267 [==============================] - 0s 1ms/step - loss: 0.3294 - accuracy: 0.8648\n",
            "Epoch 43/100\n",
            "267/267 [==============================] - 0s 1ms/step - loss: 0.3294 - accuracy: 0.8645\n",
            "Epoch 44/100\n",
            "267/267 [==============================] - 0s 1ms/step - loss: 0.3294 - accuracy: 0.8660\n",
            "Epoch 45/100\n",
            "267/267 [==============================] - 0s 1ms/step - loss: 0.3292 - accuracy: 0.8658\n",
            "Epoch 46/100\n",
            "267/267 [==============================] - 0s 1ms/step - loss: 0.3288 - accuracy: 0.8659\n",
            "Epoch 47/100\n",
            "267/267 [==============================] - 0s 2ms/step - loss: 0.3289 - accuracy: 0.8643\n",
            "Epoch 48/100\n",
            "267/267 [==============================] - 0s 1ms/step - loss: 0.3284 - accuracy: 0.8674\n",
            "Epoch 49/100\n",
            "267/267 [==============================] - 0s 1ms/step - loss: 0.3283 - accuracy: 0.8651\n",
            "Epoch 50/100\n",
            "267/267 [==============================] - 0s 1ms/step - loss: 0.3287 - accuracy: 0.8654\n",
            "Epoch 51/100\n",
            "267/267 [==============================] - 0s 1ms/step - loss: 0.3282 - accuracy: 0.8670\n",
            "Epoch 52/100\n",
            "267/267 [==============================] - 0s 2ms/step - loss: 0.3283 - accuracy: 0.8662\n",
            "Epoch 53/100\n",
            "267/267 [==============================] - 0s 1ms/step - loss: 0.3284 - accuracy: 0.8668\n",
            "Epoch 54/100\n",
            "267/267 [==============================] - 0s 1ms/step - loss: 0.3281 - accuracy: 0.8666\n",
            "Epoch 55/100\n",
            "267/267 [==============================] - 0s 1ms/step - loss: 0.3282 - accuracy: 0.8671\n",
            "Epoch 56/100\n",
            "267/267 [==============================] - 0s 1ms/step - loss: 0.3274 - accuracy: 0.8666\n",
            "Epoch 57/100\n",
            "267/267 [==============================] - 0s 1ms/step - loss: 0.3275 - accuracy: 0.8676\n",
            "Epoch 58/100\n",
            "267/267 [==============================] - 0s 1ms/step - loss: 0.3280 - accuracy: 0.8669\n",
            "Epoch 59/100\n",
            "267/267 [==============================] - 0s 1ms/step - loss: 0.3280 - accuracy: 0.8668\n",
            "Epoch 60/100\n",
            "267/267 [==============================] - 0s 1ms/step - loss: 0.3277 - accuracy: 0.8661\n",
            "Epoch 61/100\n",
            "267/267 [==============================] - 0s 1ms/step - loss: 0.3282 - accuracy: 0.8670\n",
            "Epoch 62/100\n",
            "267/267 [==============================] - 0s 1ms/step - loss: 0.3272 - accuracy: 0.8673\n",
            "Epoch 63/100\n",
            "267/267 [==============================] - 0s 1ms/step - loss: 0.3281 - accuracy: 0.8683\n",
            "Epoch 64/100\n",
            "267/267 [==============================] - 0s 1ms/step - loss: 0.3274 - accuracy: 0.8659\n",
            "Epoch 65/100\n",
            "267/267 [==============================] - 0s 1ms/step - loss: 0.3275 - accuracy: 0.8676\n",
            "Epoch 66/100\n",
            "267/267 [==============================] - 0s 1ms/step - loss: 0.3277 - accuracy: 0.8676\n",
            "Epoch 67/100\n",
            "267/267 [==============================] - 0s 1ms/step - loss: 0.3279 - accuracy: 0.8674\n",
            "Epoch 68/100\n",
            "267/267 [==============================] - 0s 1ms/step - loss: 0.3275 - accuracy: 0.8661\n",
            "Epoch 69/100\n",
            "267/267 [==============================] - 0s 1ms/step - loss: 0.3272 - accuracy: 0.8671\n",
            "Epoch 70/100\n",
            "267/267 [==============================] - 0s 1ms/step - loss: 0.3269 - accuracy: 0.8674\n",
            "Epoch 71/100\n",
            "267/267 [==============================] - 0s 2ms/step - loss: 0.3269 - accuracy: 0.8666\n",
            "Epoch 72/100\n",
            "267/267 [==============================] - 0s 1ms/step - loss: 0.3267 - accuracy: 0.8686\n",
            "Epoch 73/100\n",
            "267/267 [==============================] - 0s 1ms/step - loss: 0.3270 - accuracy: 0.8668\n",
            "Epoch 74/100\n",
            "267/267 [==============================] - 0s 1ms/step - loss: 0.3268 - accuracy: 0.8665\n",
            "Epoch 75/100\n",
            "267/267 [==============================] - 0s 2ms/step - loss: 0.3270 - accuracy: 0.8658\n",
            "Epoch 76/100\n",
            "267/267 [==============================] - 0s 1ms/step - loss: 0.3264 - accuracy: 0.8661\n",
            "Epoch 77/100\n",
            "267/267 [==============================] - 0s 1ms/step - loss: 0.3265 - accuracy: 0.8673\n",
            "Epoch 78/100\n",
            "267/267 [==============================] - 0s 1ms/step - loss: 0.3267 - accuracy: 0.8659\n",
            "Epoch 79/100\n",
            "267/267 [==============================] - 0s 2ms/step - loss: 0.3271 - accuracy: 0.8654\n",
            "Epoch 80/100\n",
            "267/267 [==============================] - 0s 1ms/step - loss: 0.3265 - accuracy: 0.8666\n",
            "Epoch 81/100\n",
            "267/267 [==============================] - 0s 1ms/step - loss: 0.3266 - accuracy: 0.8666\n",
            "Epoch 82/100\n",
            "267/267 [==============================] - 0s 1ms/step - loss: 0.3270 - accuracy: 0.8666\n",
            "Epoch 83/100\n",
            "267/267 [==============================] - 0s 1ms/step - loss: 0.3262 - accuracy: 0.8669\n",
            "Epoch 84/100\n",
            "267/267 [==============================] - 0s 1ms/step - loss: 0.3264 - accuracy: 0.8669\n",
            "Epoch 85/100\n",
            "267/267 [==============================] - 0s 1ms/step - loss: 0.3266 - accuracy: 0.8666\n",
            "Epoch 86/100\n",
            "267/267 [==============================] - 0s 1ms/step - loss: 0.3263 - accuracy: 0.8665\n",
            "Epoch 87/100\n",
            "267/267 [==============================] - 0s 1ms/step - loss: 0.3261 - accuracy: 0.8664\n",
            "Epoch 88/100\n",
            "267/267 [==============================] - 0s 1ms/step - loss: 0.3255 - accuracy: 0.8673\n",
            "Epoch 89/100\n",
            "267/267 [==============================] - 0s 1ms/step - loss: 0.3262 - accuracy: 0.8669\n",
            "Epoch 90/100\n",
            "267/267 [==============================] - 0s 1ms/step - loss: 0.3267 - accuracy: 0.8656\n",
            "Epoch 91/100\n",
            "267/267 [==============================] - 0s 1ms/step - loss: 0.3264 - accuracy: 0.8656\n",
            "Epoch 92/100\n",
            "267/267 [==============================] - 0s 1ms/step - loss: 0.3259 - accuracy: 0.8661\n",
            "Epoch 93/100\n",
            "267/267 [==============================] - 0s 1ms/step - loss: 0.3256 - accuracy: 0.8671\n",
            "Epoch 94/100\n",
            "267/267 [==============================] - 0s 1ms/step - loss: 0.3262 - accuracy: 0.8665\n",
            "Epoch 95/100\n",
            "267/267 [==============================] - 0s 1ms/step - loss: 0.3256 - accuracy: 0.8656\n",
            "Epoch 96/100\n",
            "267/267 [==============================] - 0s 1ms/step - loss: 0.3256 - accuracy: 0.8669\n",
            "Epoch 97/100\n",
            "267/267 [==============================] - 0s 1ms/step - loss: 0.3259 - accuracy: 0.8673\n",
            "Epoch 98/100\n",
            "267/267 [==============================] - 0s 1ms/step - loss: 0.3259 - accuracy: 0.8671\n",
            "Epoch 99/100\n",
            "267/267 [==============================] - 0s 1ms/step - loss: 0.3258 - accuracy: 0.8676\n",
            "Epoch 100/100\n",
            "267/267 [==============================] - 0s 1ms/step - loss: 0.3257 - accuracy: 0.8666\n"
          ],
          "name": "stdout"
        },
        {
          "output_type": "execute_result",
          "data": {
            "text/plain": [
              "<tensorflow.python.keras.callbacks.History at 0x7f24a2d30cc0>"
            ]
          },
          "metadata": {
            "tags": []
          },
          "execution_count": 61
        }
      ]
    },
    {
      "cell_type": "markdown",
      "metadata": {
        "id": "YdwSnRq46Z5L",
        "colab_type": "text"
      },
      "source": [
        "**Predicting for a new input**"
      ]
    },
    {
      "cell_type": "code",
      "metadata": {
        "id": "QxxXZrbR6zrW",
        "colab_type": "code",
        "colab": {
          "base_uri": "https://localhost:8080/",
          "height": 34
        },
        "outputId": "10af141f-4358-419a-bd8a-a08b7c88b672"
      },
      "source": [
        "inp = np.array([[300,\"France\",\"Male\",42,2,0,1,1,1,12000]])\n",
        "inp[:,2]=le.transform(inp[:,2])\n",
        "inp=ct.transform(inp)\n",
        "print(ann.predict(ss.transform(inp))>0.5)"
      ],
      "execution_count": 62,
      "outputs": [
        {
          "output_type": "stream",
          "text": [
            "[[False]]\n"
          ],
          "name": "stdout"
        }
      ]
    },
    {
      "cell_type": "markdown",
      "metadata": {
        "id": "kmqPXBta6kNE",
        "colab_type": "text"
      },
      "source": [
        "**Predicting the Test set result**"
      ]
    },
    {
      "cell_type": "code",
      "metadata": {
        "id": "gt8_xCkz6q49",
        "colab_type": "code",
        "colab": {}
      },
      "source": [
        "Ypred = ann.predict(Xtest)"
      ],
      "execution_count": 0,
      "outputs": []
    },
    {
      "cell_type": "markdown",
      "metadata": {
        "id": "hYQhz52i9Fth",
        "colab_type": "text"
      },
      "source": [
        "**Making Confusion Matrix and Accuracy Score**"
      ]
    },
    {
      "cell_type": "code",
      "metadata": {
        "id": "NiK9nvnY9ex4",
        "colab_type": "code",
        "colab": {
          "base_uri": "https://localhost:8080/",
          "height": 68
        },
        "outputId": "e988d5a9-4655-4d3c-81e3-faf8b54d8a04"
      },
      "source": [
        "for i in range(0,len(Ypred)):\n",
        "  if Ypred[i]>=0.5:\n",
        "    Ypred[i]=1\n",
        "  else:\n",
        "    Ypred[i]=0\n",
        "from sklearn.metrics import accuracy_score,confusion_matrix\n",
        "acs = accuracy_score(Ytest,Ypred)\n",
        "cm = confusion_matrix(Ytest,Ypred)\n",
        "\n",
        "print(cm)\n",
        "print(acs)"
      ],
      "execution_count": 64,
      "outputs": [
        {
          "output_type": "stream",
          "text": [
            "[[1505   90]\n",
            " [ 180  225]]\n",
            "0.865\n"
          ],
          "name": "stdout"
        }
      ]
    }
  ]
}